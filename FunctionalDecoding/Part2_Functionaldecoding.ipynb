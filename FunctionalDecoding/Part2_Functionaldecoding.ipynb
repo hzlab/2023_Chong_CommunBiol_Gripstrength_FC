{
 "cells": [
  {
   "cell_type": "markdown",
   "metadata": {},
   "source": [
    "## Start with the necessary imports"
   ]
  },
  {
   "cell_type": "code",
   "execution_count": null,
   "metadata": {},
   "outputs": [],
   "source": [
    "import os\n",
    "\n",
    "import nipype\n",
    "import nibabel as nib\n",
    "import numpy as np\n",
    "from nilearn.plotting import plot_roi\n",
    "from nilearn import plotting\n",
    "\n",
    "from nimare.dataset import Dataset\n",
    "from nimare.decode import discrete\n",
    "from nimare.utils import get_resource_path"
   ]
  },
  {
   "cell_type": "markdown",
   "metadata": {},
   "source": [
    "## Load dataset with abstracts"
   ]
  },
  {
   "cell_type": "code",
   "execution_count": null,
   "metadata": {},
   "outputs": [],
   "source": [
    "out_dir = \"/XXX/FunctionalDecoding/example_data/neurosynth_LDA50/\"\n",
    "dset = Dataset.load(os.path.join(out_dir, \"neurosynth_dataset_LDA50.pkl.gz\"))"
   ]
  },
  {
   "cell_type": "markdown",
   "metadata": {},
   "source": [
    "## Decode an ROI image using the Neurosynth ROI association method"
   ]
  },
  {
   "cell_type": "code",
   "execution_count": null,
   "metadata": {},
   "outputs": [],
   "source": [
    "#Load file\n",
    "rootdir = '/XXX/FunctionalDecoding/'\n",
    "files=['ROI_056_SalVentAttn_L_PI_RO.nii','ROI_069_SalVentAttn_R_MCC_MPC.nii','ROI_074_SalVentAttn_R_AI.nii']\n",
    "filenames=['L_PI_RO','R_MCC_MPC','R_AI']\n",
    "out_dir = \"/XXX/FunctionalDecoding/\"\n",
    "\n",
    "\n",
    "decoded_all={}\n",
    "for file,name in zip(files,filenames):\n",
    "\n",
    "    # Load images\n",
    "    img = nib.load(os.path.join(rootdir, file)) \n",
    "    img = img.get_fdata()\n",
    "\n",
    "    # Orientation of the images is flipped\n",
    "    img=np.flip(img, axis=0)\n",
    "    arr = np.zeros(dset.masker.mask_img.shape, int)\n",
    "    arr[img>0] = 1\n",
    "    mask_img = nib.Nifti1Image(arr, dset.masker.mask_img.affine)\n",
    "\n",
    "    # Get studies with voxels in the mask\n",
    "    ids = dset.get_studies_by_mask(mask_img)\n",
    "\n",
    "    # Run the decoder\n",
    "    decoder_roiassociation = discrete.ROIAssociationDecoder(mask_img)\n",
    "    decoder_roiassociation.fit(dset)\n",
    "\n",
    "    # The `transform` method doesn't take any parameters.\n",
    "    decoded_roiassociation_df = decoder_roiassociation.transform()\n",
    "\n",
    "    decoded_roiassociation_df.sort_values(by=\"r\", ascending=False).head()\n",
    "\n",
    "    csvfile=out_dir + \"decoder_roiassociation_\" + name + \".csv\"\n",
    "    decoded_roiassociation_df.to_csv(csvfile)\n"
   ]
  }
 ],
 "metadata": {
  "kernelspec": {
   "display_name": "Python 3.7.13 ('Decode')",
   "language": "python",
   "name": "python3"
  },
  "language_info": {
   "codemirror_mode": {
    "name": "ipython",
    "version": 3
   },
   "file_extension": ".py",
   "mimetype": "text/x-python",
   "name": "python",
   "nbconvert_exporter": "python",
   "pygments_lexer": "ipython3",
   "version": "3.7.13"
  },
  "orig_nbformat": 4,
  "vscode": {
   "interpreter": {
    "hash": "814caa75f6ef87996495c032c7a99155adb2e745f855a469ddbab8399de42f26"
   }
  }
 },
 "nbformat": 4,
 "nbformat_minor": 2
}
