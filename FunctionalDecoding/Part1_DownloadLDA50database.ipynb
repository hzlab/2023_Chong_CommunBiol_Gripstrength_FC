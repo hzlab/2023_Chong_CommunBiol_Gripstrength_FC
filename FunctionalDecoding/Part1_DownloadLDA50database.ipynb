{
 "cells": [
  {
   "cell_type": "markdown",
   "metadata": {},
   "source": [
    "## Load necessary imports for downloading LDA50 database and converting to NiMARE dataset file"
   ]
  },
  {
   "cell_type": "code",
   "execution_count": null,
   "metadata": {},
   "outputs": [],
   "source": [
    "import os\n",
    "from pprint import pprint\n",
    "\n",
    "from nimare.extract import download_abstracts, fetch_neuroquery, fetch_neurosynth\n",
    "from nimare.io import convert_neurosynth_to_dataset"
   ]
  },
  {
   "cell_type": "markdown",
   "metadata": {},
   "source": [
    "## Download Neurosynth LDA50"
   ]
  },
  {
   "cell_type": "code",
   "execution_count": null,
   "metadata": {},
   "outputs": [],
   "source": [
    "#CHANGE out_dir\n",
    "out_dir = os.path.abspath(\"/XXX/FunctionalDecoding/example_data/neurosynth_LDA50/\")\n",
    "\n",
    "os.makedirs(out_dir, exist_ok=True)\n",
    "\n",
    "files = fetch_neurosynth(\n",
    "    data_dir=out_dir,\n",
    "    version=\"7\",\n",
    "    overwrite=False,\n",
    "    source=\"abstract\",\n",
    "    vocab=\"LDA50\",\n",
    ")\n",
    "\n",
    "pprint(files)\n",
    "neurosynth_db = files[0]"
   ]
  },
  {
   "cell_type": "markdown",
   "metadata": {},
   "source": [
    "## Convert Neurosynth database to NiMARE dataset file"
   ]
  },
  {
   "cell_type": "code",
   "execution_count": null,
   "metadata": {},
   "outputs": [],
   "source": [
    "neurosynth_dset = convert_neurosynth_to_dataset(\n",
    "    coordinates_file=neurosynth_db[\"coordinates\"],\n",
    "    metadata_file=neurosynth_db[\"metadata\"],\n",
    "    annotations_files=neurosynth_db[\"features\"],\n",
    ")\n",
    "neurosynth_dset.save(os.path.join(out_dir, \"neurosynth_dataset_LDA50.pkl.gz\"))\n",
    "print(neurosynth_dset)"
   ]
  }
 ],
 "metadata": {
  "kernelspec": {
   "display_name": "Python 3.7.13",
   "language": "python",
   "name": "python3"
  },
  "language_info": {
   "name": "python",
   "version": "3.7.13"
  },
  "orig_nbformat": 4,
  "vscode": {
   "interpreter": {
    "hash": "814caa75f6ef87996495c032c7a99155adb2e745f855a469ddbab8399de42f26"
   }
  }
 },
 "nbformat": 4,
 "nbformat_minor": 2
}
